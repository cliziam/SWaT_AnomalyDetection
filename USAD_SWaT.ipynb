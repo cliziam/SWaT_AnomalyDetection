{
  "cells": [
    {
      "cell_type": "markdown",
      "metadata": {
        "id": "9xiL_XYMELgE"
      },
      "source": [
        "# **TRAINING USAD METHOD ON SWaT DATASET**\n",
        "\n",
        "\n",
        "***This code was running on Colab***\n",
        "\n",
        "[Repo GitHub ](https://github.com/manigalati/usad)<br>\n",
        "*USAD : UnSupervised Anomaly Detection on multivariate time series.*<br>\n",
        "*Proceedings of the 26th ACM SIGKDD International Conference on Knowledge Discovery & Data Mining, August 23-27, 2020* <br>\n",
        "*Audibert, J., Michiardi, P., Guyard, F., Marti, S., Zuluaga, M. A. (2020)*\n",
        "\n",
        "USAD is based on an autoencoder architecture whose learning is inspired by GANs.\n",
        "It uses an Autoencoder (AE) architecture within a two-phase training framework. The key idea behind this approach is to leverage the capabilities of autoencoders to identify and reconstruct normal data while introducing stability thanks to GANs.\n",
        "\n",
        "The USAD architecture is composed of three main components:\n",
        "\n",
        "1. **Encoder Network (E)**: <br>\n",
        "This component compresses the input data (denoted as “W”) into a latent space representation (“Z”).\n",
        "\n",
        "2. **Two decoder networks (D1 and D2)**: <br>\n",
        "These components aim to reconstruct the input data “W” from the latent space. Importantly, both D1 and D2 share the same encoder network \"E\".\n",
        "\n",
        "The training of the USAD model occurs in two phases:\n",
        "\n",
        "- **Phase 1: Autoencoder Training:**<br>\n",
        "The goal here is to train each AE (both AE1 and AE2) to accurately reproduce the input data \"W\".\n",
        "The training loss for each AE is calculated as the mean square error between the input data “W” and the output of the corresponding decoder.\n",
        "\n",
        "-  **Phase 2: Adversarial training**<br>\n",
        "at this stage, AE2 is trained to distinguish real data from data reconstructed by AE1, while AE1 is trained to deceive AE2. The training objectives are defined as a minimax game, where AE1 minimizes the difference between the original data \"W\" and the output of AE2, while AE2 tries to maximize this difference. This adversarial training setup results in the following loss functions for AE1 and AE2. In essence, the two autoencoders, AE1 and AE2, have a dual role: they minimize the reconstruction error in Phase 1 and focus on maximizing the reconstruction error of the input data reconstructed by the other autoencoder in Phase 2.\n",
        "\n",
        "<br>\n",
        "\n",
        "During the detection phase, the **anomaly score** (A(Wb)) is computed as a combination of two reconstruction errors: one from AE1 and another from the combination of AE2 and AE1. The weights α and β parameterize the trade-off between false positives and true positives. Choosing α and β allows you to adjust the model's sensitivity to anomalies, allowing for different detection scenarios."
      ]
    },
    {
      "cell_type": "markdown",
      "metadata": {
        "id": "-sAf8vU4Z15t"
      },
      "source": [
        "## **0. Preliminary Steps**"
      ]
    },
    {
      "cell_type": "code",
      "execution_count": null,
      "metadata": {
        "id": "YPhwL6lq9HZz"
      },
      "outputs": [],
      "source": [
        "IMPORT=True"
      ]
    },
    {
      "cell_type": "code",
      "execution_count": null,
      "metadata": {
        "colab": {
          "base_uri": "https://localhost:8080/"
        },
        "id": "UtjjK74484x5",
        "outputId": "80111688-e5d3-4bcc-a99e-3f25f06f6965"
      },
      "outputs": [
        {
          "name": "stdout",
          "output_type": "stream",
          "text": [
            "Cloning into 'usad'...\n",
            "remote: Enumerating objects: 99, done.\u001b[K\n",
            "remote: Counting objects: 100% (38/38), done.\u001b[K\n",
            "remote: Compressing objects: 100% (10/10), done.\u001b[K\n",
            "remote: Total 99 (delta 31), reused 28 (delta 28), pack-reused 61\u001b[K\n",
            "Receiving objects: 100% (99/99), 2.81 MiB | 29.35 MiB/s, done.\n",
            "Resolving deltas: 100% (47/47), done.\n"
          ]
        }
      ],
      "source": [
        "if IMPORT:\n",
        "  !git clone https://github.com/manigalati/usad\n",
        "\n",
        "def training_scores(model, train_loader, val_loader=None, alpha=.5, beta=.5):\n",
        "    if val_loader is None:\n",
        "      trainval=train_loader\n",
        "    else:\n",
        "      trainval = [d for dl in [train_loader, val_loader] for d in dl]\n",
        "    results=[]\n",
        "    for [batch] in trainval:\n",
        "        batch=to_device(batch,device)\n",
        "        w1=model.decoder1(model.encoder(batch))\n",
        "        w2=model.decoder2(model.encoder(w1))\n",
        "        results.append(alpha*torch.mean((batch-w1)**2,dim=1)+beta*torch.mean((batch-w2)**2,dim=1))\n",
        "    return results\n",
        "\n",
        "\n",
        "def testing_scores(model, test_loader, alpha=.5, beta=.5):\n",
        "  results=[]\n",
        "  for [batch] in test_loader:\n",
        "      batch=to_device(batch,device)\n",
        "      w1=model.decoder1(model.encoder(batch))\n",
        "      w2=model.decoder2(model.encoder(w1))\n",
        "      #results.append(alpha*torch.mean((batch-w1)**2,axis=1)+beta*torch.mean((batch-w2)**2,axis=1))\n",
        "      results.append(alpha*torch.mean((batch-w1)**2,dim=1)+beta*torch.mean((batch-w2)**2,dim=1))\n",
        "  return results\n",
        "\n",
        "\n",
        "def testing_threshold(model, test_loader, alpha=.5, beta=.5, contamination=0.1):\n",
        "  results=testing_scores(model, test_loader, alpha=.5, beta=.5)\n",
        "  score_pred=np.concatenate([torch.stack(results[:-1]).flatten().detach().numpy(),\n",
        "                                         results[-1].flatten().detach().numpy()])\n",
        "  return np.sort(score_pred)[int(len(score_pred)*(1-contamination))]"
      ]
    },
    {
      "cell_type": "code",
      "execution_count": null,
      "metadata": {
        "colab": {
          "base_uri": "https://localhost:8080/"
        },
        "id": "Qxf28a3o9PYg",
        "outputId": "ee2e7403-c5d3-4b7e-d09e-5925e3c7d5c1"
      },
      "outputs": [
        {
          "name": "stdout",
          "output_type": "stream",
          "text": [
            "/content/usad\n"
          ]
        }
      ],
      "source": [
        "cd /content/usad"
      ]
    },
    {
      "cell_type": "code",
      "execution_count": null,
      "metadata": {
        "id": "FN9KLza_8row"
      },
      "outputs": [],
      "source": [
        "import numpy as np\n",
        "import pandas as pd\n",
        "import matplotlib.pyplot as plt\n",
        "import seaborn as sns\n",
        "import torch\n",
        "import torch.nn as nn\n",
        "from sklearn import preprocessing\n",
        "import torch.utils.data as data_utils\n",
        "import pickle\n",
        "from sklearn.metrics import precision_score, recall_score, f1_score, classification_report\n",
        "\n",
        "from utils import *\n",
        "from usad import *"
      ]
    },
    {
      "cell_type": "markdown",
      "metadata": {
        "id": "Gs1BLhVmZ7mD"
      },
      "source": [
        "## **1. Hyper-Parameters**"
      ]
    },
    {
      "cell_type": "code",
      "execution_count": null,
      "metadata": {
        "id": "vaQ2DEdTaBl9"
      },
      "outputs": [],
      "source": [
        "down_rate=5\n",
        "window_size=12\n",
        "BATCH_SIZE =  7919\n",
        "N_EPOCHS = 70\n",
        "hidden_size = 40"
      ]
    },
    {
      "cell_type": "markdown",
      "metadata": {
        "id": "_xUIXBZ6aOFJ"
      },
      "source": [
        "## **2. Loading Datasets Attack and Normal**"
      ]
    },
    {
      "cell_type": "code",
      "execution_count": null,
      "metadata": {
        "colab": {
          "base_uri": "https://localhost:8080/"
        },
        "id": "NPGWzetj9cFb",
        "outputId": "ae7e6c51-e0dc-4669-b872-b860e4890501"
      },
      "outputs": [
        {
          "data": {
            "text/plain": [
              "(495000, 51)"
            ]
          },
          "execution_count": 6,
          "metadata": {},
          "output_type": "execute_result"
        }
      ],
      "source": [
        "normal = pd.read_csv(\"/content/drive/MyDrive/USAD/SWaT_Dataset_Normal_v1.csv\", skiprows=[0])\n",
        "normal.rename(columns={\" Timestamp\": 'Timestamp'}, inplace=True)\n",
        "normal = normal.drop([\"Timestamp\" , \"Normal/Attack\" ] , axis = 1)\n",
        "normal.shape"
      ]
    },
    {
      "cell_type": "markdown",
      "metadata": {
        "id": "ifmSpT7QdXiU"
      },
      "source": [
        "**OPTIMIZE THE COMPUTATION**"
      ]
    },
    {
      "cell_type": "code",
      "execution_count": null,
      "metadata": {
        "colab": {
          "base_uri": "https://localhost:8080/"
        },
        "id": "JMBhYuX0bsCq",
        "outputId": "49edfe89-fa75-4b65-8827-b6c6278673b3"
      },
      "outputs": [
        {
          "name": "stdout",
          "output_type": "stream",
          "text": [
            "FIT101     float32\n",
            "LIT101     float32\n",
            "MV101        int32\n",
            "P101         int32\n",
            "P102         int32\n",
            "AIT201     float32\n",
            "AIT202     float32\n",
            "AIT203     float32\n",
            "FIT201     float32\n",
            "MV201        int32\n",
            "P201         int32\n",
            "P202         int32\n",
            "P203         int32\n",
            "P204         int32\n",
            "P205         int32\n",
            "P206         int32\n",
            "DPIT301    float32\n",
            "FIT301     float32\n",
            "LIT301     float32\n",
            "MV301        int32\n",
            "MV302        int32\n",
            "MV303        int32\n",
            "MV304        int32\n",
            "P301         int32\n",
            "P302         int32\n",
            "AIT401     float32\n",
            "AIT402     float32\n",
            "FIT401     float32\n",
            "LIT401     float32\n",
            "P401         int32\n",
            "P402         int32\n",
            "P403         int32\n",
            "P404         int32\n",
            "UV401        int32\n",
            "AIT501     float32\n",
            "AIT502     float32\n",
            "AIT503     float32\n",
            "AIT504     float32\n",
            "FIT501     float32\n",
            "FIT502     float32\n",
            "FIT503     float32\n",
            "FIT504     float32\n",
            "P501         int32\n",
            "P502         int32\n",
            "PIT501     float32\n",
            "PIT502     float32\n",
            "PIT503     float32\n",
            "FIT601     float32\n",
            "P601         int32\n",
            "P602         int32\n",
            "P603         int32\n",
            "dtype: object\n"
          ]
        }
      ],
      "source": [
        "float64_cols = normal.select_dtypes(include=['float64']).columns\n",
        "normal[float64_cols] = normal[float64_cols].astype('float32')\n",
        "int64_cols = normal.select_dtypes(include=['int64']).columns\n",
        "normal[int64_cols] = normal[int64_cols].astype('int32')\n",
        "print(normal.dtypes)"
      ]
    },
    {
      "cell_type": "code",
      "execution_count": null,
      "metadata": {
        "colab": {
          "base_uri": "https://localhost:8080/"
        },
        "id": "vhrfArZYCGKx",
        "outputId": "74350050-727d-4e0e-9899-e7bc73e5f5f9"
      },
      "outputs": [
        {
          "data": {
            "text/plain": [
              "(99000, 51)"
            ]
          },
          "execution_count": 8,
          "metadata": {},
          "output_type": "execute_result"
        }
      ],
      "source": [
        "#Downsampling\n",
        "normal=normal.groupby(np.arange(len(normal.index)) // down_rate).mean()\n",
        "normal.shape"
      ]
    },
    {
      "cell_type": "code",
      "execution_count": null,
      "metadata": {
        "colab": {
          "base_uri": "https://localhost:8080/"
        },
        "id": "_ysikV3WCQa3",
        "outputId": "0f6a4b0a-93cb-4c43-84c7-9a9ea3d87b35"
      },
      "outputs": [
        {
          "data": {
            "text/plain": [
              "(449919, 51)"
            ]
          },
          "execution_count": 9,
          "metadata": {},
          "output_type": "execute_result"
        }
      ],
      "source": [
        "#Read data\n",
        "attack = pd.read_csv(\"/content/drive/MyDrive/USAD/SWaT_Dataset_Attack_v0.csv\", skiprows=[0])#, nrows=1000)\n",
        "attack.rename(columns={\" Timestamp\": 'Timestamp'}, inplace=True)\n",
        "labels = [ float(label!= 'Normal' ) for label  in attack[\"Normal/Attack\"].values]\n",
        "attack = attack.drop([\"Timestamp\" , \"Normal/Attack\" ] , axis = 1)\n",
        "attack.shape"
      ]
    },
    {
      "cell_type": "code",
      "execution_count": null,
      "metadata": {
        "colab": {
          "base_uri": "https://localhost:8080/"
        },
        "id": "xVHlsUSgCtgP",
        "outputId": "3885cf4a-d395-4416-9bba-c14310589c26"
      },
      "outputs": [
        {
          "name": "stdout",
          "output_type": "stream",
          "text": [
            "FIT101     float32\n",
            "LIT101     float32\n",
            " MV101       int32\n",
            "P101         int32\n",
            "P102         int32\n",
            " AIT201    float32\n",
            "AIT202     float32\n",
            "AIT203     float32\n",
            "FIT201     float32\n",
            " MV201       int32\n",
            " P201        int32\n",
            " P202        int32\n",
            "P203         int32\n",
            " P204        int32\n",
            "P205         int32\n",
            "P206         int32\n",
            "DPIT301    float32\n",
            "FIT301     float32\n",
            "LIT301     float32\n",
            "MV301        int32\n",
            "MV302        int32\n",
            " MV303       int32\n",
            "MV304        int32\n",
            "P301         int32\n",
            "P302         int32\n",
            "AIT401     float32\n",
            "AIT402     float32\n",
            "FIT401     float32\n",
            "LIT401     float32\n",
            "P401         int32\n",
            "P402         int32\n",
            "P403         int32\n",
            "P404         int32\n",
            "UV401        int32\n",
            "AIT501     float32\n",
            "AIT502     float32\n",
            "AIT503     float32\n",
            "AIT504     float32\n",
            "FIT501     float32\n",
            "FIT502     float32\n",
            "FIT503     float32\n",
            "FIT504     float32\n",
            "P501         int32\n",
            "P502         int32\n",
            "PIT501     float32\n",
            "PIT502     float32\n",
            "PIT503     float32\n",
            "FIT601     float32\n",
            "P601         int32\n",
            "P602         int32\n",
            "P603         int32\n",
            "dtype: object\n"
          ]
        }
      ],
      "source": [
        "float64_cols = attack.select_dtypes(include=['float64']).columns\n",
        "attack[float64_cols] = attack[float64_cols].astype('float32')\n",
        "int64_cols = attack.select_dtypes(include=['int64']).columns\n",
        "attack[int64_cols] = attack[int64_cols].astype('int32')\n",
        "print(attack.dtypes)"
      ]
    },
    {
      "cell_type": "code",
      "execution_count": null,
      "metadata": {
        "colab": {
          "base_uri": "https://localhost:8080/"
        },
        "id": "5VPrf3GEC4Ty",
        "outputId": "49e3c11f-75e7-4d2e-a363-4399559f3fbb"
      },
      "outputs": [
        {
          "data": {
            "text/plain": [
              "(89984, 51)"
            ]
          },
          "execution_count": 11,
          "metadata": {},
          "output_type": "execute_result"
        }
      ],
      "source": [
        "#Downsampling the attack data\n",
        "attack=attack.groupby(np.arange(len(attack.index)) // down_rate).mean()\n",
        "attack.shape"
      ]
    },
    {
      "cell_type": "code",
      "execution_count": null,
      "metadata": {
        "colab": {
          "base_uri": "https://localhost:8080/"
        },
        "id": "hSMuJ7WoC68s",
        "outputId": "771f2dab-80ad-41fd-f77a-0b6b83018da4"
      },
      "outputs": [
        {
          "name": "stdout",
          "output_type": "stream",
          "text": [
            "89984\n"
          ]
        }
      ],
      "source": [
        "#Downsampling the labels\n",
        "labels_down=[]\n",
        "\n",
        "for i in range(len(labels)//down_rate):\n",
        "    if labels[5*i:5*(i+1)].count(1.0):\n",
        "        labels_down.append(1.0) #Attack\n",
        "    else:\n",
        "        labels_down.append(0.0) #Normal\n",
        "\n",
        "#for the last few labels that are not within a full-length window\n",
        "if labels[down_rate*(i+1):].count(1.0):\n",
        "    labels_down.append(1.0) #Attack\n",
        "else:\n",
        "    labels_down.append(0.0) #Normal\n",
        "\n",
        "print(len(labels_down))"
      ]
    },
    {
      "cell_type": "markdown",
      "metadata": {
        "id": "T-1AfQcaa1jb"
      },
      "source": [
        "## **3. Normalize the features**"
      ]
    },
    {
      "cell_type": "code",
      "execution_count": null,
      "metadata": {
        "id": "j-5FnIw8ayB0"
      },
      "outputs": [],
      "source": [
        "min_max_scaler = preprocessing.MinMaxScaler()\n",
        "x = normal.values\n",
        "x_scaled = min_max_scaler.fit_transform(x)\n",
        "normal = pd.DataFrame(x_scaled)"
      ]
    },
    {
      "cell_type": "code",
      "execution_count": null,
      "metadata": {
        "id": "OBy9fctcC89p"
      },
      "outputs": [],
      "source": [
        "min_max_scaler = preprocessing.MinMaxScaler()\n",
        "x = attack.values\n",
        "x_scaled = min_max_scaler.fit_transform(x)\n",
        "attack = pd.DataFrame(x_scaled)"
      ]
    },
    {
      "cell_type": "markdown",
      "metadata": {
        "id": "teON1GgycWUN"
      },
      "source": [
        "## **4. Windows**"
      ]
    },
    {
      "cell_type": "code",
      "execution_count": null,
      "metadata": {
        "colab": {
          "base_uri": "https://localhost:8080/"
        },
        "id": "GndqmwGuDigT",
        "outputId": "42d2f9da-17d7-4f52-d519-464d59c2e200"
      },
      "outputs": [
        {
          "data": {
            "text/plain": [
              "(98988, 12, 51)"
            ]
          },
          "execution_count": 15,
          "metadata": {},
          "output_type": "execute_result"
        }
      ],
      "source": [
        "windows_normal=normal.values[np.arange(window_size)[None, :] + np.arange(normal.shape[0]-window_size)[:, None]]\n",
        "windows_normal.shape"
      ]
    },
    {
      "cell_type": "code",
      "execution_count": null,
      "metadata": {
        "colab": {
          "base_uri": "https://localhost:8080/"
        },
        "id": "CB1CxgHqDj_y",
        "outputId": "4c82cdeb-878e-4db0-e28d-fc0d60385504"
      },
      "outputs": [
        {
          "data": {
            "text/plain": [
              "(89972, 12, 51)"
            ]
          },
          "execution_count": 16,
          "metadata": {},
          "output_type": "execute_result"
        }
      ],
      "source": [
        "windows_attack=attack.values[np.arange(window_size)[None, :] + np.arange(attack.shape[0]-window_size)[:, None]]\n",
        "windows_attack.shape"
      ]
    },
    {
      "cell_type": "markdown",
      "metadata": {
        "id": "32_rLUcsceq6"
      },
      "source": [
        "## **5. Training**"
      ]
    },
    {
      "cell_type": "code",
      "execution_count": null,
      "metadata": {
        "id": "5HCPLeqtDyJ4"
      },
      "outputs": [],
      "source": [
        "w_size=windows_normal.shape[1]*windows_normal.shape[2]\n",
        "z_size=windows_normal.shape[1]*hidden_size\n",
        "\n",
        "windows_normal_train = windows_normal[:int(np.floor(.8 *  windows_normal.shape[0]))]\n",
        "windows_normal_val = windows_normal[int(np.floor(.8 *  windows_normal.shape[0])):int(np.floor(windows_normal.shape[0]))]\n",
        "\n",
        "train_loader = torch.utils.data.DataLoader(data_utils.TensorDataset(\n",
        "    torch.from_numpy(windows_normal_train).float().view(([windows_normal_train.shape[0],w_size]))\n",
        ") , batch_size=BATCH_SIZE, shuffle=False, num_workers=0)\n",
        "\n",
        "val_loader = torch.utils.data.DataLoader(data_utils.TensorDataset(\n",
        "    torch.from_numpy(windows_normal_val).float().view(([windows_normal_val.shape[0],w_size]))\n",
        ") , batch_size=BATCH_SIZE, shuffle=False, num_workers=0)\n",
        "\n",
        "test_loader = torch.utils.data.DataLoader(data_utils.TensorDataset(\n",
        "    torch.from_numpy(windows_attack).float().view(([windows_attack.shape[0],w_size]))\n",
        ") , batch_size=BATCH_SIZE, shuffle=False, num_workers=0)\n",
        "\n",
        "model = UsadModel(w_size, z_size)\n",
        "model = to_device(model,device)"
      ]
    },
    {
      "cell_type": "code",
      "execution_count": null,
      "metadata": {
        "colab": {
          "base_uri": "https://localhost:8080/"
        },
        "id": "SX7RhoiWD00K",
        "outputId": "44f8096c-60a4-4426-951f-f04fc5fdd97b"
      },
      "outputs": [
        {
          "name": "stdout",
          "output_type": "stream",
          "text": [
            "Epoch [0], val_loss1: 0.0481, val_loss2: 0.0476\n",
            "Epoch [1], val_loss1: 0.0448, val_loss2: -0.0008\n",
            "Epoch [2], val_loss1: 0.0389, val_loss2: -0.0137\n",
            "Epoch [3], val_loss1: 0.0350, val_loss2: -0.0185\n",
            "Epoch [4], val_loss1: 0.0329, val_loss2: -0.0207\n",
            "Epoch [5], val_loss1: 0.0334, val_loss2: -0.0231\n",
            "Epoch [6], val_loss1: 0.0362, val_loss2: -0.0273\n",
            "Epoch [7], val_loss1: 0.0393, val_loss2: -0.0308\n",
            "Epoch [8], val_loss1: 0.0385, val_loss2: -0.0311\n",
            "Epoch [9], val_loss1: 0.0383, val_loss2: -0.0318\n",
            "Epoch [10], val_loss1: 0.0383, val_loss2: -0.0323\n",
            "Epoch [11], val_loss1: 0.0379, val_loss2: -0.0325\n",
            "Epoch [12], val_loss1: 0.0379, val_loss2: -0.0329\n",
            "Epoch [13], val_loss1: 0.0375, val_loss2: -0.0330\n",
            "Epoch [14], val_loss1: 0.0374, val_loss2: -0.0331\n",
            "Epoch [15], val_loss1: 0.0370, val_loss2: -0.0331\n",
            "Epoch [16], val_loss1: 0.0367, val_loss2: -0.0331\n",
            "Epoch [17], val_loss1: 0.0366, val_loss2: -0.0332\n",
            "Epoch [18], val_loss1: 0.0363, val_loss2: -0.0330\n",
            "Epoch [19], val_loss1: 0.0360, val_loss2: -0.0329\n",
            "Epoch [20], val_loss1: 0.0359, val_loss2: -0.0330\n",
            "Epoch [21], val_loss1: 0.0361, val_loss2: -0.0334\n",
            "Epoch [22], val_loss1: 0.0361, val_loss2: -0.0335\n",
            "Epoch [23], val_loss1: 0.0368, val_loss2: -0.0342\n",
            "Epoch [24], val_loss1: 0.0375, val_loss2: -0.0350\n",
            "Epoch [25], val_loss1: 0.0373, val_loss2: -0.0349\n",
            "Epoch [26], val_loss1: 0.0376, val_loss2: -0.0353\n",
            "Epoch [27], val_loss1: 0.0379, val_loss2: -0.0356\n",
            "Epoch [28], val_loss1: 0.0381, val_loss2: -0.0359\n",
            "Epoch [29], val_loss1: 0.0382, val_loss2: -0.0361\n",
            "Epoch [30], val_loss1: 0.0376, val_loss2: -0.0356\n",
            "Epoch [31], val_loss1: 0.0389, val_loss2: -0.0369\n",
            "Epoch [32], val_loss1: 0.0377, val_loss2: -0.0358\n",
            "Epoch [33], val_loss1: 0.0381, val_loss2: -0.0363\n",
            "Epoch [34], val_loss1: 0.0380, val_loss2: -0.0362\n",
            "Epoch [35], val_loss1: 0.0388, val_loss2: -0.0370\n",
            "Epoch [36], val_loss1: 0.0393, val_loss2: -0.0376\n",
            "Epoch [37], val_loss1: 0.0400, val_loss2: -0.0383\n",
            "Epoch [38], val_loss1: 0.0390, val_loss2: -0.0373\n",
            "Epoch [39], val_loss1: 0.0388, val_loss2: -0.0372\n",
            "Epoch [40], val_loss1: 0.0389, val_loss2: -0.0373\n",
            "Epoch [41], val_loss1: 0.0388, val_loss2: -0.0373\n",
            "Epoch [42], val_loss1: 0.0386, val_loss2: -0.0371\n",
            "Epoch [43], val_loss1: 0.0386, val_loss2: -0.0372\n",
            "Epoch [44], val_loss1: 0.0384, val_loss2: -0.0370\n",
            "Epoch [45], val_loss1: 0.0392, val_loss2: -0.0377\n",
            "Epoch [46], val_loss1: 0.0391, val_loss2: -0.0377\n",
            "Epoch [47], val_loss1: 0.0408, val_loss2: -0.0394\n",
            "Epoch [48], val_loss1: 0.0377, val_loss2: -0.0364\n",
            "Epoch [49], val_loss1: 0.0403, val_loss2: -0.0390\n",
            "Epoch [50], val_loss1: 0.0376, val_loss2: -0.0364\n",
            "Epoch [51], val_loss1: 0.0382, val_loss2: -0.0370\n",
            "Epoch [52], val_loss1: 0.0372, val_loss2: -0.0361\n",
            "Epoch [53], val_loss1: 0.0366, val_loss2: -0.0355\n",
            "Epoch [54], val_loss1: 0.0365, val_loss2: -0.0353\n",
            "Epoch [55], val_loss1: 0.0385, val_loss2: -0.0374\n",
            "Epoch [56], val_loss1: 0.0374, val_loss2: -0.0363\n",
            "Epoch [57], val_loss1: 0.0363, val_loss2: -0.0353\n",
            "Epoch [58], val_loss1: 0.0382, val_loss2: -0.0371\n",
            "Epoch [59], val_loss1: 0.0369, val_loss2: -0.0359\n",
            "Epoch [60], val_loss1: 0.0372, val_loss2: -0.0362\n",
            "Epoch [61], val_loss1: 0.0372, val_loss2: -0.0362\n",
            "Epoch [62], val_loss1: 0.0359, val_loss2: -0.0349\n",
            "Epoch [63], val_loss1: 0.0382, val_loss2: -0.0372\n",
            "Epoch [64], val_loss1: 0.0364, val_loss2: -0.0354\n",
            "Epoch [65], val_loss1: 0.0358, val_loss2: -0.0349\n",
            "Epoch [66], val_loss1: 0.0378, val_loss2: -0.0368\n",
            "Epoch [67], val_loss1: 0.0358, val_loss2: -0.0349\n",
            "Epoch [68], val_loss1: 0.0369, val_loss2: -0.0360\n",
            "Epoch [69], val_loss1: 0.0364, val_loss2: -0.0356\n"
          ]
        }
      ],
      "source": [
        "history = training(N_EPOCHS,model,train_loader,val_loader)\n"
      ]
    },
    {
      "cell_type": "code",
      "execution_count": null,
      "metadata": {
        "colab": {
          "base_uri": "https://localhost:8080/",
          "height": 472
        },
        "id": "ggc2Yy-3D2Y2",
        "outputId": "40f6c68f-27e9-4db8-f63d-ea0ac9bdaf59"
      },
      "outputs": [
        {
          "data": {
            "image/png": "[encoded data removed]",
            "text/plain": [
              "<Figure size 640x480 with 1 Axes>"
            ]
          },
          "metadata": {},
          "output_type": "display_data"
        }
      ],
      "source": [
        "plot_history(history)\n"
      ]
    },
    {
      "cell_type": "markdown",
      "metadata": {
        "id": "PlSt2ziWc6Iv"
      },
      "source": [
        "## **Save the model**"
      ]
    },
    {
      "cell_type": "code",
      "execution_count": null,
      "metadata": {
        "id": "XCai-qmvD4hl"
      },
      "outputs": [],
      "source": [
        "torch.save({\n",
        "            'encoder': model.encoder.state_dict(),\n",
        "            'decoder1': model.decoder1.state_dict(),\n",
        "            'decoder2': model.decoder2.state_dict()\n",
        "            }, \"model_SWaT.pth\")"
      ]
    },
    {
      "cell_type": "code",
      "execution_count": null,
      "metadata": {
        "id": "j6ZTYJfOcymW"
      },
      "outputs": [],
      "source": [
        "filename = 'usad_SWaT.sav'\n",
        "pickle.dump(model, open(filename, 'wb'))"
      ]
    },
    {
      "cell_type": "code",
      "execution_count": 23,
      "metadata": {
        "colab": {
          "base_uri": "https://localhost:8080/"
        },
        "id": "dk0_ah-Yg6HQ",
        "outputId": "6ae61ffa-2777-4fd8-964d-e3d3135b5e01"
      },
      "outputs": [
        {
          "data": {
            "text/plain": [
              "<All keys matched successfully>"
            ]
          },
          "execution_count": 23,
          "metadata": {},
          "output_type": "execute_result"
        }
      ],
      "source": [
        "checkpoint = torch.load(\"model_SWaT.pth\")\n",
        "\n",
        "model.encoder.load_state_dict(checkpoint['encoder'])\n",
        "model.decoder1.load_state_dict(checkpoint['decoder1'])\n",
        "model.decoder2.load_state_dict(checkpoint['decoder2'])"
      ]
    },
    {
      "cell_type": "code",
      "execution_count": 43,
      "metadata": {
        "id": "xXoUr4U6hDJZ"
      },
      "outputs": [],
      "source": [
        "training_scores_list=training_scores(model,train_loader,val_loader)"
      ]
    },
    {
      "cell_type": "code",
      "execution_count": 44,
      "metadata": {
        "id": "Zx74dT1OhHhH"
      },
      "outputs": [],
      "source": [
        "training_scores_concat=np.concatenate([torch.stack(training_scores_list[:-1]).flatten().detach().cpu().numpy(),\n",
        "                            training_scores_list[-1].flatten().detach().cpu().numpy()])"
      ]
    },
    {
      "cell_type": "code",
      "execution_count": 46,
      "metadata": {
        "colab": {
          "base_uri": "https://localhost:8080/"
        },
        "id": "teBL_DiJiXL1",
        "outputId": "86b6aebf-506e-4b5a-f38a-ae437c53c401"
      },
      "outputs": [
        {
          "name": "stdout",
          "output_type": "stream",
          "text": [
            "[0.30965337 0.3096711  0.30968213 ... 0.01092041 0.01092516 0.01086419]\n"
          ]
        },
        {
          "data": {
            "text/plain": [
              "0.009538653"
            ]
          },
          "execution_count": 46,
          "metadata": {},
          "output_type": "execute_result"
        }
      ],
      "source": [
        "print(training_scores_concat)\n",
        "min(training_scores_concat)"
      ]
    },
    {
      "cell_type": "code",
      "execution_count": 47,
      "metadata": {
        "id": "aotICYX8icE6"
      },
      "outputs": [],
      "source": [
        "results=training_scores(model, test_loader) # testing\n"
      ]
    },
    {
      "cell_type": "code",
      "execution_count": 48,
      "metadata": {
        "colab": {
          "base_uri": "https://localhost:8080/"
        },
        "id": "yNFexCQxieHa",
        "outputId": "528ea291-2f03-492b-e657-acba7b72621d"
      },
      "outputs": [
        {
          "name": "stdout",
          "output_type": "stream",
          "text": [
            "[tensor([0.0458, 0.0458, 0.0458,  ..., 0.0424, 0.0424, 0.0423],\n",
            "       grad_fn=<AddBackward0>), tensor([0.0424, 0.0425, 0.0425,  ..., 0.0448, 0.0448, 0.0448],\n",
            "       grad_fn=<AddBackward0>), tensor([0.0447, 0.0447, 0.0447,  ..., 0.1024, 0.1024, 0.1024],\n",
            "       grad_fn=<AddBackward0>), tensor([0.1024, 0.1024, 0.1025,  ..., 0.0414, 0.0414, 0.0413],\n",
            "       grad_fn=<AddBackward0>), tensor([0.0413, 0.0413, 0.0414,  ..., 0.0823, 0.0794, 0.0766],\n",
            "       grad_fn=<AddBackward0>), tensor([0.0735, 0.0697, 0.0652,  ..., 0.3341, 0.3341, 0.3341],\n",
            "       grad_fn=<AddBackward0>), tensor([0.3341, 0.3341, 0.3341,  ..., 0.0922, 0.0888, 0.0853],\n",
            "       grad_fn=<AddBackward0>), tensor([0.0818, 0.0792, 0.0770,  ..., 0.0455, 0.0455, 0.0455],\n",
            "       grad_fn=<AddBackward0>), tensor([0.0456, 0.0456, 0.0455,  ..., 0.0480, 0.0480, 0.0480],\n",
            "       grad_fn=<AddBackward0>), tensor([0.0480, 0.0480, 0.0479,  ..., 0.1023, 0.1023, 0.1023],\n",
            "       grad_fn=<AddBackward0>), tensor([0.1023, 0.1023, 0.1022,  ..., 0.0493, 0.0493, 0.0494],\n",
            "       grad_fn=<AddBackward0>), tensor([0.0494, 0.0493, 0.0493,  ..., 0.0705, 0.0706, 0.0706],\n",
            "       grad_fn=<AddBackward0>)]\n"
          ]
        }
      ],
      "source": [
        "print(results)\n"
      ]
    },
    {
      "cell_type": "code",
      "execution_count": 49,
      "metadata": {
        "id": "PXL0YMEiigNg"
      },
      "outputs": [],
      "source": [
        "windows_labels=[]\n",
        "for i in range(len(labels_down)-window_size):\n",
        "    windows_labels.append(list(np.int_(labels_down[i:i+window_size])))"
      ]
    },
    {
      "cell_type": "code",
      "execution_count": 50,
      "metadata": {
        "id": "xFNoKtiPiiEX"
      },
      "outputs": [],
      "source": [
        "y_test = [1.0 if (np.sum(window) > 0) else 0 for window in windows_labels]"
      ]
    },
    {
      "cell_type": "code",
      "execution_count": 51,
      "metadata": {
        "id": "99UCuTEbijxr"
      },
      "outputs": [],
      "source": [
        "y_pred=np.concatenate([torch.stack(results[:-1]).flatten().detach().cpu().numpy(),\n",
        "                            results[-1].flatten().detach().cpu().numpy()])"
      ]
    },
    {
      "cell_type": "code",
      "execution_count": 56,
      "metadata": {
        "id": "Cq3sZ7QPimRP"
      },
      "outputs": [],
      "source": [
        "results_threshold=testing_threshold(model,test_loader,alpha=.5, beta=.5, contamination=0.10)"
      ]
    },
    {
      "cell_type": "code",
      "execution_count": 57,
      "metadata": {
        "colab": {
          "base_uri": "https://localhost:8080/"
        },
        "id": "hgeNTo6li3uC",
        "outputId": "236776e1-30c4-4219-85b9-3e1d937a7c9e"
      },
      "outputs": [
        {
          "data": {
            "text/plain": [
              "0.12279378"
            ]
          },
          "execution_count": 57,
          "metadata": {},
          "output_type": "execute_result"
        }
      ],
      "source": [
        "results_threshold"
      ]
    },
    {
      "cell_type": "code",
      "execution_count": 58,
      "metadata": {
        "colab": {
          "base_uri": "https://localhost:8080/",
          "height": 466
        },
        "id": "9liGThbsi5AF",
        "outputId": "93c2506d-15b4-46e1-c5de-6de1f3dc2332"
      },
      "outputs": [
        {
          "data": {
            "image/png": "[encoded data removed]",
            "text/plain": [
              "<Figure size 640x480 with 1 Axes>"
            ]
          },
          "metadata": {},
          "output_type": "display_data"
        },
        {
          "data": {
            "text/plain": [
              "array([0.0869233], dtype=float32)"
            ]
          },
          "execution_count": 58,
          "metadata": {},
          "output_type": "execute_result"
        }
      ],
      "source": [
        "threshold=ROC(y_test,y_pred)\n",
        "threshold"
      ]
    },
    {
      "cell_type": "code",
      "execution_count": 59,
      "metadata": {
        "id": "sprVBxtKi9O3"
      },
      "outputs": [],
      "source": [
        "threshold=results_threshold\n",
        "y_pred_label = [1.0 if (score > threshold) else 0 for score in y_pred ]"
      ]
    },
    {
      "cell_type": "code",
      "execution_count": 60,
      "metadata": {
        "colab": {
          "base_uri": "https://localhost:8080/"
        },
        "id": "MTzCoEmri-me",
        "outputId": "21bcf276-45a7-4c68-fe94-252c93f48efe"
      },
      "outputs": [
        {
          "name": "stdout",
          "output_type": "stream",
          "text": [
            "precision= 0.810381238190508\n",
            "recall= 0.6433992234380516\n",
            "f1= 0.7173004082837326\n"
          ]
        }
      ],
      "source": [
        "prec=precision_score(y_test,y_pred_label,pos_label=1)\n",
        "recall=recall_score(y_test,y_pred_label,pos_label=1)\n",
        "f1=f1_score(y_test,y_pred_label,pos_label=1)\n",
        "print('precision=',prec)\n",
        "print('recall=',recall)\n",
        "print('f1=',f1)"
      ]
    }
  ],
  "metadata": {
    "colab": {
      "provenance": []
    },
    "kernelspec": {
      "display_name": "Python 3",
      "name": "python3"
    },
    "language_info": {
      "name": "python"
    }
  },
  "nbformat": 4,
  "nbformat_minor": 0
}
